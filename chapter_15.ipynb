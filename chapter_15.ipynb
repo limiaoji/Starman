{
 "cells": [
  {
   "cell_type": "markdown",
   "id": "5077d54a",
   "metadata": {},
   "source": [
    "# 知識を一つにまとめる<br>\n",
    "## 「戦争（War）」の要素：\n",
    "1. カード\n",
    "1. デッキ\n",
    "1. プレーヤー\n",
    "1. ゲーム自体"
   ]
  },
  {
   "cell_type": "markdown",
   "id": "15d0be6f",
   "metadata": {},
   "source": [
    "- [x] カード: spades黑桃·，hearts红桃，diamonds方片，clubs梅花"
   ]
  },
  {
   "cell_type": "code",
   "execution_count": 10,
   "id": "3446c35b",
   "metadata": {},
   "outputs": [],
   "source": [
    "from random import shuffle\n",
    "class Card():\n",
    "    suits = [\"spades\",\"hearts\",\"diamonds\",\"clubs\"]\n",
    "    \n",
    "    values = [None, None,\n",
    "            \"2\", \"3\", \"4\", \"5\", \"6\", \"7\", \"8\", \"9\",\n",
    "            \"10\", \"Jack\", \"Queen\", \"King\",\"Ace\"]\n",
    "    \n",
    "    def __init__(self, v, s):\n",
    "        \"\"\"スートsuit(マークmark)も値も整数値です\"\"\"\n",
    "        self.value = v\n",
    "        self.suit = s\n",
    "    def __lt__(self, c2):\n",
    "        if self.value < c2.value:\n",
    "            return True\n",
    "        if self.value == c2.value:\n",
    "            # 冗長なコードを変更\n",
    "            #if self.suit < c2.suit:\n",
    "            #    return True\n",
    "            #else:\n",
    "            #    return False\n",
    "            return self.suit < c2.suit\n",
    "                \n",
    "        return False\n",
    "    \n",
    "    def __gt__(self, c2):\n",
    "        if self.value > c2.value:\n",
    "            return True\n",
    "        if self.value == c2.value:\n",
    "            # 冗長なオードを変更\n",
    "            #if self.suits > c2.suits:\n",
    "            #    return True\n",
    "            #else:\n",
    "            #    return False\n",
    "            return self.suits > c2.suit\n",
    "        return False\n",
    "    \n",
    "    def __repr__(self):\n",
    "        v = self.values[self.value] + \" of \"\\\n",
    "        + self.suits[self.suit]           #　\"\\\"　是换行符，使用 \"\\\" 换行，后面不能有\"注释\"/\"空格\"\n",
    "        return v\n",
    "    \n",
    "#card1 = Card(10, 2)\n",
    "#card2 = Card(11, 3)\n",
    "#print(card1 > card2)\n",
    "#print(card1 < card2)\n",
    "#card = Card(3,2)\n",
    "#print(card)"
   ]
  },
  {
   "cell_type": "markdown",
   "id": "f4c97f12",
   "metadata": {},
   "source": [
    "- [x] デッキ(Deck): カード一式となる52枚のトランプ"
   ]
  },
  {
   "cell_type": "code",
   "execution_count": 11,
   "id": "1d6524f6",
   "metadata": {},
   "outputs": [],
   "source": [
    "\n",
    "class Deck:\n",
    "    def __init__(self):\n",
    "        self.cards = []\n",
    "        for i in range(2, 15):\n",
    "            for j in range(4):\n",
    "                self.cards.append(Card(i,j))\n",
    "        shuffle(self.cards)\n",
    "    # 名前を適切なものに変更    \n",
    "    #def rm_card(self):\n",
    "    def draw(self):\n",
    "        if len(self.cards) == 0:\n",
    "            return\n",
    "        return self.cards.pop()\n",
    "\n",
    "#deck = Deck()\n",
    "#for card in deck.cards:\n",
    "#    print(card)"
   ]
  },
  {
   "cell_type": "markdown",
   "id": "e92d12be",
   "metadata": {},
   "source": [
    "- [x] プレーヤー(player):①名前、②持っていいるカード、③勝つ回数 "
   ]
  },
  {
   "cell_type": "code",
   "execution_count": 12,
   "id": "cb13aabe",
   "metadata": {},
   "outputs": [],
   "source": [
    "class Player:\n",
    "    def __init__(self, name):\n",
    "        self.wins = 0\n",
    "        self.card = None\n",
    "        self.name = name"
   ]
  },
  {
   "cell_type": "markdown",
   "id": "a1d3a6fd",
   "metadata": {},
   "source": [
    "- [x] ゲーム(game)"
   ]
  },
  {
   "cell_type": "code",
   "execution_count": 17,
   "id": "a217aac6",
   "metadata": {},
   "outputs": [
    {
     "name": "stdout",
     "output_type": "stream",
     "text": [
      "プレーヤー１の名前T\n",
      "プレーヤー２の名前L\n",
      "GAMEを始めます！\n",
      "ｑで終了、それ以外のキーでPlay:1\n",
      "Tは6 of diamonds、Lは4 of heartsを引きました。\n",
      "このウランドはTが勝ちました。\n",
      "ｑで終了、それ以外のキーでPlay:2\n",
      "TはJack of hearts、Lは2 of heartsを引きました。\n",
      "このウランドはTが勝ちました。\n",
      "ｑで終了、それ以外のキーでPlay:3\n",
      "TはJack of spades、Lは6 of clubsを引きました。\n",
      "このウランドはTが勝ちました。\n",
      "ｑで終了、それ以外のキーでPlay:4\n",
      "Tは9 of spades、Lは4 of clubsを引きました。\n",
      "このウランドはTが勝ちました。\n",
      "ｑで終了、それ以外のキーでPlay:5\n",
      "Tは10 of diamonds、Lは2 of diamondsを引きました。\n",
      "このウランドはTが勝ちました。\n",
      "ｑで終了、それ以外のキーでPlay:q\n",
      "ゲーム終了、Tの勝利です！\n"
     ]
    }
   ],
   "source": [
    "class Game:\n",
    "    def __init__(self):\n",
    "        name1 = input(\"プレーヤー１の名前\")\n",
    "        name2 = input(\"プレーヤー２の名前\")\n",
    "        self.deck = Deck()\n",
    "        self.p1 = Player(name1)\n",
    "        self.p2 = Player(name2)\n",
    "        \n",
    "    # 名前を適切なものに変更、冗長なコードを変更\n",
    "    #def wins(self, winner):\n",
    "    #    w = \"このウランドは{}が勝ちました。\"\n",
    "    #    w = w.format(winner)\n",
    "    #    print(w)\n",
    "    def print_winner(self, winner):\n",
    "        w = \"このウランドは{}が勝ちました。\"\n",
    "        print(w.format(winner.name))\n",
    "        \n",
    "    # 名前を適切なものに変更、冗長なコードを変更\n",
    "    #def draw(self, p1n, p1c, p2n, p2c):\n",
    "    #    d = \"{}は{}、{}は{}を引きました。\"\n",
    "    #    d = d.format(p1n, p1c, p2n, p2c)\n",
    "    #    print(d)\n",
    "    def print_draw(self, p1, p2):\n",
    "        d = \"{}は{}、{}は{}を引きました。\"\n",
    "        print(d.format(p1.name, p1.card, p2.name, p2.card))\n",
    "    \n",
    "    \n",
    "    def play_game(self):\n",
    "        cards = self.deck.cards\n",
    "        print(\"GAMEを始めます！\")\n",
    "        while len(cards) >= 2:\n",
    "            m = \"ｑで終了、それ以外のキーでPlay:\"\n",
    "            response = input(m)\n",
    "            if response == 'q':\n",
    "                break\n",
    "            # 冗長なコードを修正\n",
    "            #c = self.deck.rm_card()\n",
    "            #p2c = self.deck.rm_card()\n",
    "            self.p1.card = self.deck.draw()\n",
    "            self.p2.card = self.deck.draw()\n",
    "            # 冗長なコードを修正\n",
    "            #p1n = self.p1.name\n",
    "            #p2n = self.p2.name\n",
    "            self.print_draw(self.p1, self.p2)\n",
    "            # 適切なコードを修正\n",
    "            #if p1c > p2c:\n",
    "            if self.p1.card > self.p2.card:\n",
    "                self.p1.wins += 1\n",
    "                #self.wins(self.p1.name)\n",
    "                self.print_winner(self.p1)\n",
    "            else:\n",
    "                self.p2.wins += 1\n",
    "                self.print_winner(self.p2)\n",
    "    \n",
    "        win = self.winner(self.p1, self.p2)\n",
    "        print(\"ゲーム終了、{}の勝利です！\".format(win))\n",
    "\n",
    "    def winner(self, p1, p2):\n",
    "        if p1.wins > p2.wins:\n",
    "            return p1.name\n",
    "        if p1.wins < p2.wins:\n",
    "            return p2.name\n",
    "        return \"引き分け！\"        \n",
    "\n",
    "        \n",
    "game = Game()\n",
    "game.play_game()"
   ]
  },
  {
   "cell_type": "code",
   "execution_count": null,
   "id": "dd801ddf",
   "metadata": {},
   "outputs": [],
   "source": []
  }
 ],
 "metadata": {
  "kernelspec": {
   "display_name": "Python 3 (ipykernel)",
   "language": "python",
   "name": "python3"
  },
  "language_info": {
   "codemirror_mode": {
    "name": "ipython",
    "version": 3
   },
   "file_extension": ".py",
   "mimetype": "text/x-python",
   "name": "python",
   "nbconvert_exporter": "python",
   "pygments_lexer": "ipython3",
   "version": "3.11.0"
  }
 },
 "nbformat": 4,
 "nbformat_minor": 5
}
